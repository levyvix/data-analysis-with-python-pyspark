{
 "cells": [
  {
   "cell_type": "code",
   "execution_count": 43,
   "metadata": {},
   "outputs": [],
   "source": [
    "from pyspark.sql import SparkSession\n",
    "from pyspark.sql import functions as f\n",
    "\n",
    "# Iniciar Spark Session\n",
    "spark: SparkSession = SparkSession.builder.appName(\"Read file\").getOrCreate()\n",
    "spark.sparkContext.setLogLevel(\"ERROR\")\n",
    "\n",
    "# Ler arquivo CSV\n",
    "results = (\n",
    "    spark.read.text(\"../data/gutenberg_books/1342-0.txt\")\n",
    "    .select(f.split(f.col(\"value\"), \" \").alias(\"line\"))\n",
    "    .select(f.explode(f.col(\"line\")).alias(\"word\"))\n",
    "    .select(f.lower(f.col(\"word\")).alias(\"words_lower\"))\n",
    "    .select(f.regexp_extract(f.col(\"words_lower\"), \"[a-z]+\", 0).alias(\"word\"))\n",
    "    .filter(f.col(\"word\") != \"\")\n",
    "    .groupby(f.col(\"word\"))\n",
    "    .agg(f.count(f.col(\"word\")).alias(\"count\"))\n",
    "    .orderBy(f.col(\"count\").desc())\n",
    ")\n",
    "\n",
    "\n",
    "# Salvar resultados em um arquivo CSV\n",
    "results.coalesce(1).write.csv(\"../data/pride-and-prejudice.csv\", mode=\"overwrite\")\n"
   ]
  },
  {
   "cell_type": "code",
   "execution_count": null,
   "metadata": {},
   "outputs": [],
   "source": []
  }
 ],
 "metadata": {
  "kernelspec": {
   "display_name": ".venv",
   "language": "python",
   "name": "python3"
  },
  "language_info": {
   "codemirror_mode": {
    "name": "ipython",
    "version": 3
   },
   "file_extension": ".py",
   "mimetype": "text/x-python",
   "name": "python",
   "nbconvert_exporter": "python",
   "pygments_lexer": "ipython3",
   "version": "3.10.12"
  }
 },
 "nbformat": 4,
 "nbformat_minor": 2
}
